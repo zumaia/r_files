{
  "nbformat": 4,
  "nbformat_minor": 0,
  "metadata": {
    "colab": {
      "name": "scraping_wikipedia_tabla.ipynb",
      "provenance": [],
      "authorship_tag": "ABX9TyOe2KsKmTrlW3WZ9767adIJ",
      "include_colab_link": true
    },
    "kernelspec": {
      "name": "ir",
      "display_name": "R"
    },
    "language_info": {
      "name": "R"
    }
  },
  "cells": [
    {
      "cell_type": "markdown",
      "metadata": {
        "id": "view-in-github",
        "colab_type": "text"
      },
      "source": [
        "<a href=\"https://colab.research.google.com/github/zumaia/r_files/blob/master/scraping_wikipedia_tabla.ipynb\" target=\"_parent\"><img src=\"https://colab.research.google.com/assets/colab-badge.svg\" alt=\"Open In Colab\"/></a>"
      ]
    },
    {
      "cell_type": "code",
      "metadata": {
        "id": "XA2bJe_iYFCw"
      },
      "source": [
        ""
      ],
      "execution_count": null,
      "outputs": []
    },
    {
      "cell_type": "code",
      "metadata": {
        "id": "zJbrenybX0qQ"
      },
      "source": [
        "library(rvest)\n",
        "library(ggplot2)\n",
        "library(dplyr)\n",
        "library(RColorBrewer)\n"
      ],
      "execution_count": 13,
      "outputs": []
    },
    {
      "cell_type": "code",
      "metadata": {
        "colab": {
          "base_uri": "https://localhost:8080/",
          "height": 391
        },
        "id": "7sQY0-0kYKNi",
        "outputId": "4423c2ea-9610-4a2d-bf95-c003954274bd"
      },
      "source": [
        "\n",
        "# Página de Wiki \n",
        "url1 <- \"https://es.wikipedia.org/wiki/Anexo:Estad%C3%ADsticas_de_la_Copa_América\"\n",
        "tmp1 <- read_html(url1)\n",
        "tmp1 <- html_nodes(tmp1, \"table\")\n",
        "tmp1\n"
      ],
      "execution_count": 14,
      "outputs": [
        {
          "output_type": "display_data",
          "data": {
            "text/plain": [
              "{xml_nodeset (27)}\n",
              " [1] <table cellspacing=\"0\" style=\"background: #EBF5FF; border: 1px #aaa soli ...\n",
              " [2] <table cellspacing=\"0\" style=\"background: #EBF5FF; border: 1px #aaa soli ...\n",
              " [3] <table cellspacing=\"0\" style=\"background: #EBF5FF; border: 1px #aaa soli ...\n",
              " [4] <table cellspacing=\"0\" style=\"background: #EBF5FF; border: 1px #aaa soli ...\n",
              " [5] <table cellspacing=\"0\" style=\"background: #EBF5FF; border: 1px #aaa soli ...\n",
              " [6] <table cellspacing=\"0\" style=\"background: #EBF5FF; border: 1px #aaa soli ...\n",
              " [7] <table cellpadding=\"4\" cellspacing=\"0\" style=\"background: #f5faff; borde ...\n",
              " [8] <table cellpadding=\"2\" cellspacing=\"0\" style=\"background: #f5faff; borde ...\n",
              " [9] <table cellpadding=\"4\" cellspacing=\"0\" style=\"background: #f5faff; borde ...\n",
              "[10] <table cellpadding=\"4\" cellspacing=\"0\" style=\"text-align:center; backgro ...\n",
              "[11] <table class=\"wikitable\" style=\"text-align:center\"><tbody>\\n<tr>\\n<th>Ed ...\n",
              "[12] <table cellpadding=\"2\" cellspacing=\"0\" style=\"background: #f5faff; borde ...\n",
              "[13] <table cellpadding=\"2\" cellspacing=\"0\" style=\"background: #f5faff; borde ...\n",
              "[14] <table cellpadding=\"2\" cellspacing=\"0\" style=\"background: #f5faff; borde ...\n",
              "[15] <table cellspacing=\"0\" style=\"background: #EBF5FF; border: 1px #aaa soli ...\n",
              "[16] <table class=\"wikitable\"><tbody>\\n<tr><th colspan=\"3\">Resultado\\n</th></ ...\n",
              "[17] <table class=\"wikitable\"><tbody>\\n<tr><th colspan=\"3\">Resultado\\n</th></ ...\n",
              "[18] <table class=\"wikitable\"><tbody>\\n<tr><th colspan=\"3\">Resultado\\n</th></ ...\n",
              "[19] <table class=\"wikitable\"><tbody>\\n<tr><th colspan=\"3\">Resultado\\n</th></ ...\n",
              "[20] <table cellspacing=\"0\" style=\"background: #E6EEE6; border: 1px #aaa soli ...\n",
              "..."
            ]
          },
          "metadata": {
            "tags": []
          }
        }
      ]
    },
    {
      "cell_type": "code",
      "metadata": {
        "colab": {
          "base_uri": "https://localhost:8080/",
          "height": 782
        },
        "id": "7WaZ79GQYR0-",
        "outputId": "274c1125-2439-4a65-aa99-4427a55d1fb4"
      },
      "source": [
        "length(tmp1) # Hay en total 27 tablas\n",
        "sapply(tmp1, function(x) dim(html_table(x, fill = TRUE)))\n",
        "Copa <- html_table(tmp1[[7]], fill = TRUE)\n",
        "Copa"
      ],
      "execution_count": 15,
      "outputs": [
        {
          "output_type": "display_data",
          "data": {
            "text/plain": [
              "[1] 27"
            ],
            "text/latex": "27",
            "text/markdown": "27",
            "text/html": [
              "27"
            ]
          },
          "metadata": {
            "tags": []
          }
        },
        {
          "output_type": "display_data",
          "data": {
            "text/plain": [
              "     [,1] [,2] [,3] [,4] [,5] [,6] [,7] [,8] [,9] [,10] [,11] [,12] [,13] [,14]\n",
              "[1,] 19   4    7    5    3    19   19   20   19   12    ⋯     1     1     14   \n",
              "[2,]  5   3    2    2    2     4   14    4    3    5    ⋯     3     3      7   \n",
              "     [,15] [,16] [,17] [,18] [,19] [,20] [,21]\n",
              "[1,] 46    13    46    4     46    4     4    \n",
              "[2,]  4     7     5    3      3    3     3    "
            ],
            "text/latex": "A matrix: 2 × 27 of type int\n\\begin{tabular}{lllllllllllllllllllll}\n\t 19 & 4 & 7 & 5 & 3 & 19 & 19 & 20 & 19 & 12 & ⋯ & 1 & 1 & 14 & 46 & 13 & 46 & 4 & 46 & 4 & 4\\\\\n\t  5 & 3 & 2 & 2 & 2 &  4 & 14 &  4 &  3 &  5 & ⋯ & 3 & 3 &  7 &  4 &  7 &  5 & 3 &  3 & 3 & 3\\\\\n\\end{tabular}\n",
            "text/markdown": "\nA matrix: 2 × 27 of type int\n\n| 19 | 4 | 7 | 5 | 3 | 19 | 19 | 20 | 19 | 12 | ⋯ | 1 | 1 | 14 | 46 | 13 | 46 | 4 | 46 | 4 | 4 |\n|  5 | 3 | 2 | 2 | 2 |  4 | 14 |  4 |  3 |  5 | ⋯ | 3 | 3 |  7 |  4 |  7 |  5 | 3 |  3 | 3 | 3 |\n\n",
            "text/html": [
              "<table class=\"dataframe\">\n",
              "<caption>A matrix: 2 × 27 of type int</caption>\n",
              "<tbody>\n",
              "\t<tr><td>19</td><td>4</td><td>7</td><td>5</td><td>3</td><td>19</td><td>19</td><td>20</td><td>19</td><td>12</td><td>⋯</td><td>1</td><td>1</td><td>14</td><td>46</td><td>13</td><td>46</td><td>4</td><td>46</td><td>4</td><td>4</td></tr>\n",
              "\t<tr><td> 5</td><td>3</td><td>2</td><td>2</td><td>2</td><td> 4</td><td>14</td><td> 4</td><td> 3</td><td> 5</td><td>⋯</td><td>3</td><td>3</td><td> 7</td><td> 4</td><td> 7</td><td> 5</td><td>3</td><td> 3</td><td>3</td><td>3</td></tr>\n",
              "</tbody>\n",
              "</table>\n"
            ]
          },
          "metadata": {
            "tags": []
          }
        },
        {
          "output_type": "display_data",
          "data": {
            "text/plain": [
              "   Pos. Equipo             Títls Part. Puntos PJ  PG  PE PP GF  GC  DG  \n",
              "1   1   ARG Argentina      14    43    410    197 123 41 33 464 180 +284\n",
              "2   2   URU Uruguay        15    45    366    202 110 36 56 406 221 +185\n",
              "3   3   BRA Brasil          9    37    352    186 105 37 44 425 201 +224\n",
              "4   4   CHI Chile           2    40    233    185  67 32 86 290 312 –22 \n",
              "5   5   PAR Paraguay        2    38    231    173  63 42 68 259 298 –41 \n",
              "6   6   PER Perú            2    33    205    155  56 37 62 220 245 –25 \n",
              "7   7   COL Colombia        1    23    167    119  48 23 48 136 184 –48 \n",
              "8   8   BOL Bolivia         1    28     86    117  20 26 71 107 292 –185\n",
              "9   9   ECU Ecuador         0    29     71    122  16 23 83 129 319 –190\n",
              "10 10   MEX México          0    10     70     48  19 13 16  66  62 +4  \n",
              "11 11   VEN Venezuela       0    19     40     68   8 16 44  50 178 –128\n",
              "12 12   CRC Costa Rica      0     5     18     17   5  3  9  17  31 –14 \n",
              "13 13   USA Estados Unidos  0     4     17     18   5  2 11  18  29 –11 \n",
              "14 14   HON Honduras        0     1     10      6   3  1  2   7   5 +2  \n",
              "15 15   PAN Panamá          0     1      3      3   1  0  2   4  10 –6  \n",
              "16 16   JPN Japón           0     2      3      6   0  3  3   6  15 –9  \n",
              "17 17   QAT Catar           0     1      1      3   0  1  2   2   5 –3  \n",
              "18 18   JAM Jamaica         0     2      0      6   0  0  6   0   9 –9  \n",
              "19 19   HAI Haití           0     1      0      3   0  0  3   1  12 –11 \n",
              "   Puntos/PJ Rend. \n",
              "1  2,08      69,84%\n",
              "2  1,82      60,58%\n",
              "3  1,87      62,17%\n",
              "4  1,27      41,71%\n",
              "5  1,32      44,18%\n",
              "6  1,33      44,37%\n",
              "7  1,37      46,43%\n",
              "8  0,74      25,60%\n",
              "9  0,58      19,77%\n",
              "10 1,46      48,61%\n",
              "11 0,60      18,28%\n",
              "12 1,06      35,29%\n",
              "13 0,94      31,48%\n",
              "14 1,67      55,55%\n",
              "15 1,00      33,33%\n",
              "16 0,50      11,11%\n",
              "17 0,33      11,11%\n",
              "18 0,00      0,00% \n",
              "19 0,00      0,00% "
            ],
            "text/latex": "A tibble: 19 × 14\n\\begin{tabular}{llllllllllllll}\n Pos. & Equipo & Títls & Part. & Puntos & PJ & PG & PE & PP & GF & GC & DG & Puntos/PJ & Rend.\\\\\n <int> & <chr> & <int> & <int> & <int> & <int> & <int> & <int> & <int> & <int> & <int> & <chr> & <chr> & <chr>\\\\\n\\hline\n\t  1 & ARG Argentina      & 14 & 43 & 410 & 197 & 123 & 41 & 33 & 464 & 180 & +284 & 2,08 & 69,84\\%\\\\\n\t  2 & URU Uruguay        & 15 & 45 & 366 & 202 & 110 & 36 & 56 & 406 & 221 & +185 & 1,82 & 60,58\\%\\\\\n\t  3 & BRA Brasil         &  9 & 37 & 352 & 186 & 105 & 37 & 44 & 425 & 201 & +224 & 1,87 & 62,17\\%\\\\\n\t  4 & CHI Chile          &  2 & 40 & 233 & 185 &  67 & 32 & 86 & 290 & 312 & –22  & 1,27 & 41,71\\%\\\\\n\t  5 & PAR Paraguay       &  2 & 38 & 231 & 173 &  63 & 42 & 68 & 259 & 298 & –41  & 1,32 & 44,18\\%\\\\\n\t  6 & PER Perú           &  2 & 33 & 205 & 155 &  56 & 37 & 62 & 220 & 245 & –25  & 1,33 & 44,37\\%\\\\\n\t  7 & COL Colombia       &  1 & 23 & 167 & 119 &  48 & 23 & 48 & 136 & 184 & –48  & 1,37 & 46,43\\%\\\\\n\t  8 & BOL Bolivia        &  1 & 28 &  86 & 117 &  20 & 26 & 71 & 107 & 292 & –185 & 0,74 & 25,60\\%\\\\\n\t  9 & ECU Ecuador        &  0 & 29 &  71 & 122 &  16 & 23 & 83 & 129 & 319 & –190 & 0,58 & 19,77\\%\\\\\n\t 10 & MEX México         &  0 & 10 &  70 &  48 &  19 & 13 & 16 &  66 &  62 & +4   & 1,46 & 48,61\\%\\\\\n\t 11 & VEN Venezuela      &  0 & 19 &  40 &  68 &   8 & 16 & 44 &  50 & 178 & –128 & 0,60 & 18,28\\%\\\\\n\t 12 & CRC Costa Rica     &  0 &  5 &  18 &  17 &   5 &  3 &  9 &  17 &  31 & –14  & 1,06 & 35,29\\%\\\\\n\t 13 & USA Estados Unidos &  0 &  4 &  17 &  18 &   5 &  2 & 11 &  18 &  29 & –11  & 0,94 & 31,48\\%\\\\\n\t 14 & HON Honduras       &  0 &  1 &  10 &   6 &   3 &  1 &  2 &   7 &   5 & +2   & 1,67 & 55,55\\%\\\\\n\t 15 & PAN Panamá         &  0 &  1 &   3 &   3 &   1 &  0 &  2 &   4 &  10 & –6   & 1,00 & 33,33\\%\\\\\n\t 16 & JPN Japón          &  0 &  2 &   3 &   6 &   0 &  3 &  3 &   6 &  15 & –9   & 0,50 & 11,11\\%\\\\\n\t 17 & QAT Catar          &  0 &  1 &   1 &   3 &   0 &  1 &  2 &   2 &   5 & –3   & 0,33 & 11,11\\%\\\\\n\t 18 & JAM Jamaica        &  0 &  2 &   0 &   6 &   0 &  0 &  6 &   0 &   9 & –9   & 0,00 & 0,00\\% \\\\\n\t 19 & HAI Haití          &  0 &  1 &   0 &   3 &   0 &  0 &  3 &   1 &  12 & –11  & 0,00 & 0,00\\% \\\\\n\\end{tabular}\n",
            "text/markdown": "\nA tibble: 19 × 14\n\n| Pos. &lt;int&gt; | Equipo &lt;chr&gt; | Títls &lt;int&gt; | Part. &lt;int&gt; | Puntos &lt;int&gt; | PJ &lt;int&gt; | PG &lt;int&gt; | PE &lt;int&gt; | PP &lt;int&gt; | GF &lt;int&gt; | GC &lt;int&gt; | DG &lt;chr&gt; | Puntos/PJ &lt;chr&gt; | Rend. &lt;chr&gt; |\n|---|---|---|---|---|---|---|---|---|---|---|---|---|---|\n|  1 | ARG Argentina      | 14 | 43 | 410 | 197 | 123 | 41 | 33 | 464 | 180 | +284 | 2,08 | 69,84% |\n|  2 | URU Uruguay        | 15 | 45 | 366 | 202 | 110 | 36 | 56 | 406 | 221 | +185 | 1,82 | 60,58% |\n|  3 | BRA Brasil         |  9 | 37 | 352 | 186 | 105 | 37 | 44 | 425 | 201 | +224 | 1,87 | 62,17% |\n|  4 | CHI Chile          |  2 | 40 | 233 | 185 |  67 | 32 | 86 | 290 | 312 | –22  | 1,27 | 41,71% |\n|  5 | PAR Paraguay       |  2 | 38 | 231 | 173 |  63 | 42 | 68 | 259 | 298 | –41  | 1,32 | 44,18% |\n|  6 | PER Perú           |  2 | 33 | 205 | 155 |  56 | 37 | 62 | 220 | 245 | –25  | 1,33 | 44,37% |\n|  7 | COL Colombia       |  1 | 23 | 167 | 119 |  48 | 23 | 48 | 136 | 184 | –48  | 1,37 | 46,43% |\n|  8 | BOL Bolivia        |  1 | 28 |  86 | 117 |  20 | 26 | 71 | 107 | 292 | –185 | 0,74 | 25,60% |\n|  9 | ECU Ecuador        |  0 | 29 |  71 | 122 |  16 | 23 | 83 | 129 | 319 | –190 | 0,58 | 19,77% |\n| 10 | MEX México         |  0 | 10 |  70 |  48 |  19 | 13 | 16 |  66 |  62 | +4   | 1,46 | 48,61% |\n| 11 | VEN Venezuela      |  0 | 19 |  40 |  68 |   8 | 16 | 44 |  50 | 178 | –128 | 0,60 | 18,28% |\n| 12 | CRC Costa Rica     |  0 |  5 |  18 |  17 |   5 |  3 |  9 |  17 |  31 | –14  | 1,06 | 35,29% |\n| 13 | USA Estados Unidos |  0 |  4 |  17 |  18 |   5 |  2 | 11 |  18 |  29 | –11  | 0,94 | 31,48% |\n| 14 | HON Honduras       |  0 |  1 |  10 |   6 |   3 |  1 |  2 |   7 |   5 | +2   | 1,67 | 55,55% |\n| 15 | PAN Panamá         |  0 |  1 |   3 |   3 |   1 |  0 |  2 |   4 |  10 | –6   | 1,00 | 33,33% |\n| 16 | JPN Japón          |  0 |  2 |   3 |   6 |   0 |  3 |  3 |   6 |  15 | –9   | 0,50 | 11,11% |\n| 17 | QAT Catar          |  0 |  1 |   1 |   3 |   0 |  1 |  2 |   2 |   5 | –3   | 0,33 | 11,11% |\n| 18 | JAM Jamaica        |  0 |  2 |   0 |   6 |   0 |  0 |  6 |   0 |   9 | –9   | 0,00 | 0,00%  |\n| 19 | HAI Haití          |  0 |  1 |   0 |   3 |   0 |  0 |  3 |   1 |  12 | –11  | 0,00 | 0,00%  |\n\n",
            "text/html": [
              "<table class=\"dataframe\">\n",
              "<caption>A tibble: 19 × 14</caption>\n",
              "<thead>\n",
              "\t<tr><th scope=col>Pos.</th><th scope=col>Equipo</th><th scope=col>Títls</th><th scope=col>Part.</th><th scope=col>Puntos</th><th scope=col>PJ</th><th scope=col>PG</th><th scope=col>PE</th><th scope=col>PP</th><th scope=col>GF</th><th scope=col>GC</th><th scope=col>DG</th><th scope=col>Puntos/PJ</th><th scope=col>Rend.</th></tr>\n",
              "\t<tr><th scope=col>&lt;int&gt;</th><th scope=col>&lt;chr&gt;</th><th scope=col>&lt;int&gt;</th><th scope=col>&lt;int&gt;</th><th scope=col>&lt;int&gt;</th><th scope=col>&lt;int&gt;</th><th scope=col>&lt;int&gt;</th><th scope=col>&lt;int&gt;</th><th scope=col>&lt;int&gt;</th><th scope=col>&lt;int&gt;</th><th scope=col>&lt;int&gt;</th><th scope=col>&lt;chr&gt;</th><th scope=col>&lt;chr&gt;</th><th scope=col>&lt;chr&gt;</th></tr>\n",
              "</thead>\n",
              "<tbody>\n",
              "\t<tr><td> 1</td><td>ARG Argentina     </td><td>14</td><td>43</td><td>410</td><td>197</td><td>123</td><td>41</td><td>33</td><td>464</td><td>180</td><td>+284</td><td>2,08</td><td>69,84%</td></tr>\n",
              "\t<tr><td> 2</td><td>URU Uruguay       </td><td>15</td><td>45</td><td>366</td><td>202</td><td>110</td><td>36</td><td>56</td><td>406</td><td>221</td><td>+185</td><td>1,82</td><td>60,58%</td></tr>\n",
              "\t<tr><td> 3</td><td>BRA Brasil        </td><td> 9</td><td>37</td><td>352</td><td>186</td><td>105</td><td>37</td><td>44</td><td>425</td><td>201</td><td>+224</td><td>1,87</td><td>62,17%</td></tr>\n",
              "\t<tr><td> 4</td><td>CHI Chile         </td><td> 2</td><td>40</td><td>233</td><td>185</td><td> 67</td><td>32</td><td>86</td><td>290</td><td>312</td><td>–22 </td><td>1,27</td><td>41,71%</td></tr>\n",
              "\t<tr><td> 5</td><td>PAR Paraguay      </td><td> 2</td><td>38</td><td>231</td><td>173</td><td> 63</td><td>42</td><td>68</td><td>259</td><td>298</td><td>–41 </td><td>1,32</td><td>44,18%</td></tr>\n",
              "\t<tr><td> 6</td><td>PER Perú          </td><td> 2</td><td>33</td><td>205</td><td>155</td><td> 56</td><td>37</td><td>62</td><td>220</td><td>245</td><td>–25 </td><td>1,33</td><td>44,37%</td></tr>\n",
              "\t<tr><td> 7</td><td>COL Colombia      </td><td> 1</td><td>23</td><td>167</td><td>119</td><td> 48</td><td>23</td><td>48</td><td>136</td><td>184</td><td>–48 </td><td>1,37</td><td>46,43%</td></tr>\n",
              "\t<tr><td> 8</td><td>BOL Bolivia       </td><td> 1</td><td>28</td><td> 86</td><td>117</td><td> 20</td><td>26</td><td>71</td><td>107</td><td>292</td><td>–185</td><td>0,74</td><td>25,60%</td></tr>\n",
              "\t<tr><td> 9</td><td>ECU Ecuador       </td><td> 0</td><td>29</td><td> 71</td><td>122</td><td> 16</td><td>23</td><td>83</td><td>129</td><td>319</td><td>–190</td><td>0,58</td><td>19,77%</td></tr>\n",
              "\t<tr><td>10</td><td>MEX México        </td><td> 0</td><td>10</td><td> 70</td><td> 48</td><td> 19</td><td>13</td><td>16</td><td> 66</td><td> 62</td><td>+4  </td><td>1,46</td><td>48,61%</td></tr>\n",
              "\t<tr><td>11</td><td>VEN Venezuela     </td><td> 0</td><td>19</td><td> 40</td><td> 68</td><td>  8</td><td>16</td><td>44</td><td> 50</td><td>178</td><td>–128</td><td>0,60</td><td>18,28%</td></tr>\n",
              "\t<tr><td>12</td><td>CRC Costa Rica    </td><td> 0</td><td> 5</td><td> 18</td><td> 17</td><td>  5</td><td> 3</td><td> 9</td><td> 17</td><td> 31</td><td>–14 </td><td>1,06</td><td>35,29%</td></tr>\n",
              "\t<tr><td>13</td><td>USA Estados Unidos</td><td> 0</td><td> 4</td><td> 17</td><td> 18</td><td>  5</td><td> 2</td><td>11</td><td> 18</td><td> 29</td><td>–11 </td><td>0,94</td><td>31,48%</td></tr>\n",
              "\t<tr><td>14</td><td>HON Honduras      </td><td> 0</td><td> 1</td><td> 10</td><td>  6</td><td>  3</td><td> 1</td><td> 2</td><td>  7</td><td>  5</td><td>+2  </td><td>1,67</td><td>55,55%</td></tr>\n",
              "\t<tr><td>15</td><td>PAN Panamá        </td><td> 0</td><td> 1</td><td>  3</td><td>  3</td><td>  1</td><td> 0</td><td> 2</td><td>  4</td><td> 10</td><td>–6  </td><td>1,00</td><td>33,33%</td></tr>\n",
              "\t<tr><td>16</td><td>JPN Japón         </td><td> 0</td><td> 2</td><td>  3</td><td>  6</td><td>  0</td><td> 3</td><td> 3</td><td>  6</td><td> 15</td><td>–9  </td><td>0,50</td><td>11,11%</td></tr>\n",
              "\t<tr><td>17</td><td>QAT Catar         </td><td> 0</td><td> 1</td><td>  1</td><td>  3</td><td>  0</td><td> 1</td><td> 2</td><td>  2</td><td>  5</td><td>–3  </td><td>0,33</td><td>11,11%</td></tr>\n",
              "\t<tr><td>18</td><td>JAM Jamaica       </td><td> 0</td><td> 2</td><td>  0</td><td>  6</td><td>  0</td><td> 0</td><td> 6</td><td>  0</td><td>  9</td><td>–9  </td><td>0,00</td><td>0,00% </td></tr>\n",
              "\t<tr><td>19</td><td>HAI Haití         </td><td> 0</td><td> 1</td><td>  0</td><td>  3</td><td>  0</td><td> 0</td><td> 3</td><td>  1</td><td> 12</td><td>–11 </td><td>0,00</td><td>0,00% </td></tr>\n",
              "</tbody>\n",
              "</table>\n"
            ]
          },
          "metadata": {
            "tags": []
          }
        }
      ]
    },
    {
      "cell_type": "code",
      "metadata": {
        "colab": {
          "base_uri": "https://localhost:8080/",
          "height": 391
        },
        "id": "1EjsbKMiYKav",
        "outputId": "7f47ac26-c432-4760-8b8b-869e27dce0c8"
      },
      "source": [
        "\n",
        "url2 <- \"https://es.wikipedia.org/wiki/Selección_de_fútbol_de_Colombia\"\n",
        "tmp2 <- read_html(url2)\n",
        "tmp2 <- html_nodes(tmp2, \"table\")\n",
        "tmp2"
      ],
      "execution_count": 16,
      "outputs": [
        {
          "output_type": "display_data",
          "data": {
            "text/plain": [
              "{xml_nodeset (21)}\n",
              " [1] <table class=\"infobox\" style=\"width:22.7em; line-height: 1.4em; text-ali ...\n",
              " [2] <table style=\"margin: 0 auto;\"><tbody><tr style=\"vertical-align: top;\">\\ ...\n",
              " [3] <table cellpadding=\"3\" cellspacing=\"0\" style=\"background: #F5FAFF; borde ...\n",
              " [4] <table><tbody><tr>\\n<td>\\n<div style=\"width: 100px; margin: 0 auto; padd ...\n",
              " [5] <table class=\"sortable\" align=\"left\" cellpadding=\"3\" cellspacing=\"0\" sty ...\n",
              " [6] <table class=\"sortable\" align=\"left\" cellpadding=\"2\" cellspacing=\"0\" sty ...\n",
              " [7] <table align=\"left\" cellpadding=\"3\" cellspacing=\"0\" style=\"background: # ...\n",
              " [8] <table align=\"left\" cellpadding=\"3\" cellspacing=\"0\" style=\"background: # ...\n",
              " [9] <table class=\"sortable\" align=\"left\" cellpadding=\"2\" cellspacing=\"0\" sty ...\n",
              "[10] <table width=\"65%\" border=\"1\" cellpadding=\"2\" cellspacing=\"0\" style=\"bac ...\n",
              "[11] <table width=\"65%\" border=\"1\" cellpadding=\"2\" cellspacing=\"0\" style=\"bac ...\n",
              "[12] <table width=\"65%\" border=\"1\" cellpadding=\"2\" cellspacing=\"0\" style=\"bac ...\n",
              "[13] <table width=\"65%\" border=\"1\" cellpadding=\"2\" cellspacing=\"0\" style=\"bac ...\n",
              "[14] <table width=\"65%\" border=\"1\" cellpadding=\"2\" cellspacing=\"0\" style=\"bac ...\n",
              "[15] <table class=\"wikitable colizq\" style=\"font-size:90%; text-align: center ...\n",
              "[16] <table align=\"center\" bgcolor=\"#f7f8ff\" cellpadding=\"3\" cellspacing=\"0\"  ...\n",
              "[17] <table cellspacing=\"0\" style=\"background: #E6EEE6; border: 1px #aaa soli ...\n",
              "[18] <table cellspacing=\"0\" style=\"background: #E6EEE6; border: 1px #aaa soli ...\n",
              "[19] <table align=\"border\" border=\"1\" cellpadding=\"2\" cellspacing=\"0\" style=\" ...\n",
              "[20] <table class=\"wikitable\" border=\"1\" cellpadding=\"5\" cellspacing=\"0\" styl ...\n",
              "..."
            ]
          },
          "metadata": {
            "tags": []
          }
        }
      ]
    },
    {
      "cell_type": "code",
      "metadata": {
        "colab": {
          "base_uri": "https://localhost:8080/",
          "height": 34
        },
        "id": "8xPcGqeyYKfZ",
        "outputId": "2c6b1e65-5fff-456d-86d8-12528fd9476e"
      },
      "source": [
        "\n",
        "length(tmp2) # Hay en total 21 tablas\n",
        "\n"
      ],
      "execution_count": 6,
      "outputs": [
        {
          "output_type": "display_data",
          "data": {
            "text/plain": [
              "[1] 21"
            ],
            "text/latex": "21",
            "text/markdown": "21",
            "text/html": [
              "21"
            ]
          },
          "metadata": {
            "tags": []
          }
        }
      ]
    },
    {
      "cell_type": "code",
      "metadata": {
        "colab": {
          "base_uri": "https://localhost:8080/",
          "height": 96
        },
        "id": "75cJq08tY3P7",
        "outputId": "35af1fdb-2add-44d6-d83c-eb60987dcad9"
      },
      "source": [
        "sapply(tmp2, function(x) dim(html_table(x, fill = TRUE)))\n"
      ],
      "execution_count": 7,
      "outputs": [
        {
          "output_type": "display_data",
          "data": {
            "text/plain": [
              "     [,1] [,2] [,3] [,4] [,5] [,6] [,7] [,8] [,9] [,10] [,11] [,12] [,13] [,14]\n",
              "[1,] 41   1    21   1    27   17   16   16   5    19    ⋯     12    32     4   \n",
              "[2,]  5   2    11   4     7    9    7    8   6    11    ⋯     11    11    11   \n",
              "     [,15] [,16] [,17] [,18] [,19] [,20] [,21]\n",
              "[1,] 7     6     5     6     30    3     1    \n",
              "[2,] 6     2     6     6     13    3     2    "
            ],
            "text/latex": "A matrix: 2 × 21 of type int\n\\begin{tabular}{lllllllllllllllllllll}\n\t 41 & 1 & 21 & 1 & 27 & 17 & 16 & 16 & 5 & 19 & ⋯ & 12 & 32 &  4 & 7 & 6 & 5 & 6 & 30 & 3 & 1\\\\\n\t  5 & 2 & 11 & 4 &  7 &  9 &  7 &  8 & 6 & 11 & ⋯ & 11 & 11 & 11 & 6 & 2 & 6 & 6 & 13 & 3 & 2\\\\\n\\end{tabular}\n",
            "text/markdown": "\nA matrix: 2 × 21 of type int\n\n| 41 | 1 | 21 | 1 | 27 | 17 | 16 | 16 | 5 | 19 | ⋯ | 12 | 32 |  4 | 7 | 6 | 5 | 6 | 30 | 3 | 1 |\n|  5 | 2 | 11 | 4 |  7 |  9 |  7 |  8 | 6 | 11 | ⋯ | 11 | 11 | 11 | 6 | 2 | 6 | 6 | 13 | 3 | 2 |\n\n",
            "text/html": [
              "<table class=\"dataframe\">\n",
              "<caption>A matrix: 2 × 21 of type int</caption>\n",
              "<tbody>\n",
              "\t<tr><td>41</td><td>1</td><td>21</td><td>1</td><td>27</td><td>17</td><td>16</td><td>16</td><td>5</td><td>19</td><td>⋯</td><td>12</td><td>32</td><td> 4</td><td>7</td><td>6</td><td>5</td><td>6</td><td>30</td><td>3</td><td>1</td></tr>\n",
              "\t<tr><td> 5</td><td>2</td><td>11</td><td>4</td><td> 7</td><td> 9</td><td> 7</td><td> 8</td><td>6</td><td>11</td><td>⋯</td><td>11</td><td>11</td><td>11</td><td>6</td><td>2</td><td>6</td><td>6</td><td>13</td><td>3</td><td>2</td></tr>\n",
              "</tbody>\n",
              "</table>\n"
            ]
          },
          "metadata": {
            "tags": []
          }
        }
      ]
    },
    {
      "cell_type": "code",
      "metadata": {
        "colab": {
          "base_uri": "https://localhost:8080/",
          "height": 562
        },
        "id": "BoqSbXRrY5AO",
        "outputId": "c786a2d4-31d1-406b-de76-1b416aeb485f"
      },
      "source": [
        "Colombia <- html_table(tmp2[[7]], fill = TRUE)\n",
        "Colombia <- Colombia[-16, c(-1,-7)]\n",
        "Colombia$Partidos <- as.numeric(Colombia$Partidos)\n",
        "Colombia <- Colombia %>% arrange(desc(Partidos))\n",
        "Colombia"
      ],
      "execution_count": 8,
      "outputs": [
        {
          "output_type": "display_data",
          "data": {
            "text/plain": [
              "   Nombre              Posición      Periodo         Partidos Goles\n",
              "1  David Ospina        Portero       2007 - presente 112      0    \n",
              "2  Carlos Valderrama   Mediocampista 1985-1998       111      11   \n",
              "3  Mario Yepes         Defensa       1999-2014       102      6    \n",
              "4  Leonel Álvarez      Mediocampista 1985-1997       101      1    \n",
              "5  Juan Cuadrado       Mediocampista 2010 - presente 100      8    \n",
              "6  Radamel Falcao      Delantero     2007 - presente  91      35   \n",
              "7  Carlos Sánchez      Mediocampista 2007-2018        88      0    \n",
              "8  Freddy Rincón       Mediocampista 1990-2001        85      17   \n",
              "9  James Rodríguez     Mediocampista 2011 - presente  80      23   \n",
              "10 Luis Carlos Perea   Defensa       1987-1994        78      2    \n",
              "11 Luis Amaranto Perea Defensa       2002-2014        76      0    \n",
              "12 Iván Ramiro Córdoba Defensa       1997-2010        73      5    \n",
              "13 Óscar Córdoba       Portero       1993-2006        73      0    \n",
              "14 Abel Aguilar        Mediocampista 2004-2018        71      7    \n",
              "15 Arnoldo Iguarán     Delantero     1979-1993        68      25   "
            ],
            "text/latex": "A tibble: 15 × 5\n\\begin{tabular}{lllll}\n Nombre & Posición & Periodo & Partidos & Goles\\\\\n <chr> & <chr> & <chr> & <dbl> & <chr>\\\\\n\\hline\n\t David Ospina        & Portero       & 2007 - presente & 112 & 0 \\\\\n\t Carlos Valderrama   & Mediocampista & 1985-1998       & 111 & 11\\\\\n\t Mario Yepes         & Defensa       & 1999-2014       & 102 & 6 \\\\\n\t Leonel Álvarez      & Mediocampista & 1985-1997       & 101 & 1 \\\\\n\t Juan Cuadrado       & Mediocampista & 2010 - presente & 100 & 8 \\\\\n\t Radamel Falcao      & Delantero     & 2007 - presente &  91 & 35\\\\\n\t Carlos Sánchez      & Mediocampista & 2007-2018       &  88 & 0 \\\\\n\t Freddy Rincón       & Mediocampista & 1990-2001       &  85 & 17\\\\\n\t James Rodríguez     & Mediocampista & 2011 - presente &  80 & 23\\\\\n\t Luis Carlos Perea   & Defensa       & 1987-1994       &  78 & 2 \\\\\n\t Luis Amaranto Perea & Defensa       & 2002-2014       &  76 & 0 \\\\\n\t Iván Ramiro Córdoba & Defensa       & 1997-2010       &  73 & 5 \\\\\n\t Óscar Córdoba       & Portero       & 1993-2006       &  73 & 0 \\\\\n\t Abel Aguilar        & Mediocampista & 2004-2018       &  71 & 7 \\\\\n\t Arnoldo Iguarán     & Delantero     & 1979-1993       &  68 & 25\\\\\n\\end{tabular}\n",
            "text/markdown": "\nA tibble: 15 × 5\n\n| Nombre &lt;chr&gt; | Posición &lt;chr&gt; | Periodo &lt;chr&gt; | Partidos &lt;dbl&gt; | Goles &lt;chr&gt; |\n|---|---|---|---|---|\n| David Ospina        | Portero       | 2007 - presente | 112 | 0  |\n| Carlos Valderrama   | Mediocampista | 1985-1998       | 111 | 11 |\n| Mario Yepes         | Defensa       | 1999-2014       | 102 | 6  |\n| Leonel Álvarez      | Mediocampista | 1985-1997       | 101 | 1  |\n| Juan Cuadrado       | Mediocampista | 2010 - presente | 100 | 8  |\n| Radamel Falcao      | Delantero     | 2007 - presente |  91 | 35 |\n| Carlos Sánchez      | Mediocampista | 2007-2018       |  88 | 0  |\n| Freddy Rincón       | Mediocampista | 1990-2001       |  85 | 17 |\n| James Rodríguez     | Mediocampista | 2011 - presente |  80 | 23 |\n| Luis Carlos Perea   | Defensa       | 1987-1994       |  78 | 2  |\n| Luis Amaranto Perea | Defensa       | 2002-2014       |  76 | 0  |\n| Iván Ramiro Córdoba | Defensa       | 1997-2010       |  73 | 5  |\n| Óscar Córdoba       | Portero       | 1993-2006       |  73 | 0  |\n| Abel Aguilar        | Mediocampista | 2004-2018       |  71 | 7  |\n| Arnoldo Iguarán     | Delantero     | 1979-1993       |  68 | 25 |\n\n",
            "text/html": [
              "<table class=\"dataframe\">\n",
              "<caption>A tibble: 15 × 5</caption>\n",
              "<thead>\n",
              "\t<tr><th scope=col>Nombre</th><th scope=col>Posición</th><th scope=col>Periodo</th><th scope=col>Partidos</th><th scope=col>Goles</th></tr>\n",
              "\t<tr><th scope=col>&lt;chr&gt;</th><th scope=col>&lt;chr&gt;</th><th scope=col>&lt;chr&gt;</th><th scope=col>&lt;dbl&gt;</th><th scope=col>&lt;chr&gt;</th></tr>\n",
              "</thead>\n",
              "<tbody>\n",
              "\t<tr><td>David Ospina       </td><td>Portero      </td><td>2007 - presente</td><td>112</td><td>0 </td></tr>\n",
              "\t<tr><td>Carlos Valderrama  </td><td>Mediocampista</td><td>1985-1998      </td><td>111</td><td>11</td></tr>\n",
              "\t<tr><td>Mario Yepes        </td><td>Defensa      </td><td>1999-2014      </td><td>102</td><td>6 </td></tr>\n",
              "\t<tr><td>Leonel Álvarez     </td><td>Mediocampista</td><td>1985-1997      </td><td>101</td><td>1 </td></tr>\n",
              "\t<tr><td>Juan Cuadrado      </td><td>Mediocampista</td><td>2010 - presente</td><td>100</td><td>8 </td></tr>\n",
              "\t<tr><td>Radamel Falcao     </td><td>Delantero    </td><td>2007 - presente</td><td> 91</td><td>35</td></tr>\n",
              "\t<tr><td>Carlos Sánchez     </td><td>Mediocampista</td><td>2007-2018      </td><td> 88</td><td>0 </td></tr>\n",
              "\t<tr><td>Freddy Rincón      </td><td>Mediocampista</td><td>1990-2001      </td><td> 85</td><td>17</td></tr>\n",
              "\t<tr><td>James Rodríguez    </td><td>Mediocampista</td><td>2011 - presente</td><td> 80</td><td>23</td></tr>\n",
              "\t<tr><td>Luis Carlos Perea  </td><td>Defensa      </td><td>1987-1994      </td><td> 78</td><td>2 </td></tr>\n",
              "\t<tr><td>Luis Amaranto Perea</td><td>Defensa      </td><td>2002-2014      </td><td> 76</td><td>0 </td></tr>\n",
              "\t<tr><td>Iván Ramiro Córdoba</td><td>Defensa      </td><td>1997-2010      </td><td> 73</td><td>5 </td></tr>\n",
              "\t<tr><td>Óscar Córdoba      </td><td>Portero      </td><td>1993-2006      </td><td> 73</td><td>0 </td></tr>\n",
              "\t<tr><td>Abel Aguilar       </td><td>Mediocampista</td><td>2004-2018      </td><td> 71</td><td>7 </td></tr>\n",
              "\t<tr><td>Arnoldo Iguarán    </td><td>Delantero    </td><td>1979-1993      </td><td> 68</td><td>25</td></tr>\n",
              "</tbody>\n",
              "</table>\n"
            ]
          },
          "metadata": {
            "tags": []
          }
        }
      ]
    },
    {
      "cell_type": "code",
      "metadata": {
        "colab": {
          "base_uri": "https://localhost:8080/",
          "height": 34
        },
        "id": "69Qi8TTmYqxE",
        "outputId": "91fa7753-1d9e-44ae-883d-9dd37df2436a"
      },
      "source": [
        "\n",
        "colores <- colorRampPalette(brewer.pal(12, \"Paired\"))(15)\n",
        "colores\n"
      ],
      "execution_count": 17,
      "outputs": [
        {
          "output_type": "display_data",
          "data": {
            "text/plain": [
              " [1] \"#A6CEE3\" \"#3B8ABE\" \"#72B29C\" \"#84C868\" \"#4F9F3B\" \"#EC9A91\" \"#E93E3F\"\n",
              " [8] \"#F06C45\" \"#FDAC4F\" \"#FB820F\" \"#D1AAB7\" \"#8C66AF\" \"#A99099\" \"#EEDB80\"\n",
              "[15] \"#B15928\""
            ],
            "text/latex": "\\begin{enumerate*}\n\\item '\\#A6CEE3'\n\\item '\\#3B8ABE'\n\\item '\\#72B29C'\n\\item '\\#84C868'\n\\item '\\#4F9F3B'\n\\item '\\#EC9A91'\n\\item '\\#E93E3F'\n\\item '\\#F06C45'\n\\item '\\#FDAC4F'\n\\item '\\#FB820F'\n\\item '\\#D1AAB7'\n\\item '\\#8C66AF'\n\\item '\\#A99099'\n\\item '\\#EEDB80'\n\\item '\\#B15928'\n\\end{enumerate*}\n",
            "text/markdown": "1. '#A6CEE3'\n2. '#3B8ABE'\n3. '#72B29C'\n4. '#84C868'\n5. '#4F9F3B'\n6. '#EC9A91'\n7. '#E93E3F'\n8. '#F06C45'\n9. '#FDAC4F'\n10. '#FB820F'\n11. '#D1AAB7'\n12. '#8C66AF'\n13. '#A99099'\n14. '#EEDB80'\n15. '#B15928'\n\n\n",
            "text/html": [
              "<style>\n",
              ".list-inline {list-style: none; margin:0; padding: 0}\n",
              ".list-inline>li {display: inline-block}\n",
              ".list-inline>li:not(:last-child)::after {content: \"\\00b7\"; padding: 0 .5ex}\n",
              "</style>\n",
              "<ol class=list-inline><li>'#A6CEE3'</li><li>'#3B8ABE'</li><li>'#72B29C'</li><li>'#84C868'</li><li>'#4F9F3B'</li><li>'#EC9A91'</li><li>'#E93E3F'</li><li>'#F06C45'</li><li>'#FDAC4F'</li><li>'#FB820F'</li><li>'#D1AAB7'</li><li>'#8C66AF'</li><li>'#A99099'</li><li>'#EEDB80'</li><li>'#B15928'</li></ol>\n"
            ]
          },
          "metadata": {
            "tags": []
          }
        }
      ]
    },
    {
      "cell_type": "code",
      "metadata": {
        "colab": {
          "base_uri": "https://localhost:8080/",
          "height": 437
        },
        "id": "aScU9bU7YrFz",
        "outputId": "aa23308f-bb9a-4633-be1d-2be484ce4e2f"
      },
      "source": [
        "p <- ggplot(Colombia, aes(x = reorder(Nombre,(-Partidos)), y = Partidos, fill = Nombre)) +\n",
        "  geom_bar(stat = \"identity\", position = \"stack\", width = 1) +\n",
        "  scale_fill_manual(values = colores) +\n",
        "  theme_void() +\n",
        "  theme(legend.position = \"none\") + \n",
        "  coord_polar(direction = -1) +\n",
        "  geom_bar(aes(y = I(8)), stat = \"identity\", width = 1, fill = \"white\") +\n",
        "  # Agregar dos aros blancos transparentes en la mitad de la gráfica \n",
        "  geom_bar(aes(y = I(20)), stat=\"identity\", \n",
        "           width = 1, fill = \"white\", alpha = 0.2) +\n",
        "  geom_bar(aes(y = I(40)), stat=\"identity\", \n",
        "           width = 1, fill = \"white\", alpha = 0.1) +\n",
        "  # Agregar el número de los partidos jugados\n",
        "  geom_text(aes(label = Partidos, \n",
        "                y = Partidos * 0.8),\n",
        "            data = Colombia, color = \"white\",\n",
        "            fontface = \"bold\", vjust = 1, \n",
        "            family = \"Helvetica\", size = seq(4, 2, length.out=15)) +\n",
        "  # Agregar nombre de los jugadores\n",
        "  geom_text(aes(label = Nombre, y = Partidos * 1.3),\n",
        "            # color = \"blue\",\n",
        "            vjust = seq(1.3, 0.2, length.out = 15),\n",
        "            # hjust = c(0.4, 0.2, 0.1, 0.15, 0.1),\n",
        "            fontface = \"bold\", family = \"Helvetica\",\n",
        "            size = c(7, seq(4, 2, length.out = 14))) +\n",
        "  # Colocar títulos, subtítulos, etc. \n",
        "  labs(title = \"Jugadores con más participaciones\",\n",
        "       caption = \"Datos tomados de: https://es.wikipedia.org/wiki/Selección_de_fútbol_de_Colombia\") +\n",
        "  # Apariencia de títulos, subtítulos, etc. \n",
        "  theme(plot.title=element_text(size=26, hjust=0.5, \n",
        "                                face=\"bold\", vjust=-100),\n",
        "        plot.caption = element_text(size=8, hjust=0.5, \n",
        "                                    face=\"bold\", color='grey', vjust=14))\n",
        "\n",
        "p"
      ],
      "execution_count": 18,
      "outputs": [
        {
          "output_type": "display_data",
          "data": {
            "image/png": "[encoded data removed]",
            "text/plain": [
              "plot without title"
            ]
          },
          "metadata": {
            "tags": [],
            "image/png": {
              "width": 420,
              "height": 420
            }
          }
        }
      ]
    }
  ]
}